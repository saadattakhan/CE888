{
 "cells": [
  {
   "cell_type": "markdown",
   "metadata": {
    "colab_type": "text",
    "id": "view-in-github"
   },
   "source": [
    "<a href=\"https://colab.research.google.com/github/sagihaider/CE888_2021/blob/main/Lab_7/Exercise2_DogvsCat_CNN.ipynb\" target=\"_parent\"><img src=\"https://colab.research.google.com/assets/colab-badge.svg\" alt=\"Open In Colab\"/></a>"
   ]
  },
  {
   "cell_type": "markdown",
   "metadata": {
    "id": "qTh9DiKVslsJ"
   },
   "source": [
    "## Dogs vs. Cats \n",
    "\n",
    "In this competition, you'll write an algorithm to classify whether images contain either a dog or a cat.  This is easy for humans, dogs, and cats. Your computer will find it a bit more difficult.\n",
    "\n",
    "![alt text](https://miro.medium.com/max/3000/1*bhFifratH9DjKqMBTeQG5A.gif)\n",
    "\n",
    "Ref: https://medium.com/@thegrigorian/rolling-in-the-deep-cnn-c8d3f7108c8c"
   ]
  },
  {
   "cell_type": "markdown",
   "metadata": {
    "id": "RSBI-_mSSY1g"
   },
   "source": [
    "Get your API Key from Kaggle using following steps:\n",
    "1. Login to [Kaggle](https://www.kaggle.com/) or Register if you don't have account\n",
    "2. Open Dataset (https://www.kaggle.com/c/dogs-vs-cats/rules) and accept terms and condition. \n",
    "3. On the top right corner click on your Icon and go to accounts and press a button \"Create New API Token\". It will download a JSON file containing your username and key. \n",
    "4. Now, paste both below. \n"
   ]
  },
  {
   "cell_type": "code",
   "execution_count": 2,
   "metadata": {},
   "outputs": [],
   "source": [
    "import os"
   ]
  },
  {
   "cell_type": "code",
   "execution_count": null,
   "metadata": {
    "colab": {
     "base_uri": "https://localhost:8080/",
     "height": 199
    },
    "id": "YmXSOc0tZIGA",
    "outputId": "7e8af6a4-2bcc-4bda-c88d-873ee9327318"
   },
   "outputs": [
    {
     "name": "stdout",
     "output_type": "stream",
     "text": [
      "Warning: Looks like you're using an outdated API Version, please consider updating (server 1.5.6 / client 1.5.4)\n",
      "Downloading test1.zip to /content\n",
      " 98% 267M/271M [00:01<00:00, 167MB/s]\n",
      "100% 271M/271M [00:01<00:00, 165MB/s]\n",
      "Downloading sampleSubmission.csv to /content\n",
      "  0% 0.00/86.8k [00:00<?, ?B/s]\n",
      "100% 86.8k/86.8k [00:00<00:00, 126MB/s]\n",
      "Downloading train.zip to /content\n",
      " 98% 535M/543M [00:04<00:00, 107MB/s]\n",
      "100% 543M/543M [00:04<00:00, 134MB/s]\n"
     ]
    }
   ],
   "source": [
    "os.environ['KAGGLE_USERNAME'] = \"saadattakhan\" # username from the json file\n",
    "os.environ['KAGGLE_KEY'] = \"e092adc41ef8024b70187d9f62114eae\" # key from the json file\n",
    "!kaggle competitions download -c dogs-vs-cats # api copied from kaggle (https://www.kaggle.com/c/dogs-vs-cats/data)"
   ]
  },
  {
   "cell_type": "code",
   "execution_count": null,
   "metadata": {
    "colab": {
     "base_uri": "https://localhost:8080/",
     "height": 35
    },
    "id": "PiwIL8d1n7eS",
    "outputId": "ca4c2bf4-5304-4896-c63e-64a573e5971a"
   },
   "outputs": [
    {
     "name": "stdout",
     "output_type": "stream",
     "text": [
      "done\n"
     ]
    }
   ],
   "source": [
    "# Unzip training data\n",
    "from zipfile import ZipFile\n",
    "file_name = \"/content/train.zip\"\n",
    "with ZipFile(file_name, 'r') as zip:\n",
    "  zip.extractall()\n",
    "  print('done')"
   ]
  },
  {
   "cell_type": "code",
   "execution_count": 6,
   "metadata": {
    "id": "sa2Bj5i7pPKV"
   },
   "outputs": [
    {
     "name": "stdout",
     "output_type": "stream",
     "text": [
      "25000\n"
     ]
    }
   ],
   "source": [
    "# Get all the paths\n",
    "data_dir_list = os.listdir('content/train')\n",
    "#print(data_dir_list)\n",
    "path, dirs, files = next(os.walk(\"content/train\"))\n",
    "file_count = len(files)\n",
    "print(file_count)"
   ]
  },
  {
   "cell_type": "code",
   "execution_count": 8,
   "metadata": {
    "id": "0ERlHkfHqpK8"
   },
   "outputs": [],
   "source": [
    "# Make new base directory\n",
    "original_dataset_dir = 'content/train'\n",
    "base_dir = '/content/cats_and_dogs_small'\n",
    "os.mkdir(base_dir)"
   ]
  },
  {
   "cell_type": "code",
   "execution_count": 12,
   "metadata": {
    "id": "AANB1UJ6rQhM"
   },
   "outputs": [],
   "source": [
    "train_dir = os.path.join(base_dir, 'train')\n",
    "os.mkdir(train_dir)\n",
    "\n",
    "validation_dir = os.path.join(base_dir, 'validation')\n",
    "os.mkdir(validation_dir)\n",
    "\n",
    "test_dir = os.path.join(base_dir, 'test')\n",
    "os.mkdir(test_dir)\n",
    "\n",
    "train_cats_dir = os.path.join(train_dir, 'cats')\n",
    "os.mkdir(train_cats_dir)\n",
    "\n",
    "train_dogs_dir = os.path.join(train_dir, 'dogs')\n",
    "os.mkdir(train_dogs_dir)\n",
    "\n",
    "validation_cats_dir = os.path.join(validation_dir, 'cats')\n",
    "os.mkdir(validation_cats_dir)\n",
    "\n",
    "validation_dogs_dir = os.path.join(validation_dir, 'dogs')\n",
    "os.mkdir(validation_dogs_dir)\n",
    "\n",
    "test_cats_dir = os.path.join(test_dir, 'cats')\n",
    "os.mkdir(test_cats_dir)\n",
    "\n",
    "test_dogs_dir = os.path.join(test_dir, 'dogs')\n",
    "os.mkdir(test_dogs_dir)"
   ]
  },
  {
   "cell_type": "code",
   "execution_count": null,
   "metadata": {
    "id": "ULRgL9s9rV8T"
   },
   "outputs": [],
   "source": [
    "import shutil\n",
    "fnames = ['cat.{}.jpg'.format(i) for i in range(1000)]\n",
    "for fname in fnames:\n",
    "    src = os.path.join(original_dataset_dir, fname)\n",
    "    dst = os.path.join(train_cats_dir, fname)\n",
    "    #print(src,dst)\n",
    "    shutil.copyfile(src, dst)\n",
    "    \n",
    "fnames = ['cat.{}.jpg'.format(i) for i in range(1000, 1500)]\n",
    "for fname in fnames:\n",
    "    src = os.path.join(original_dataset_dir, fname)\n",
    "    dst = os.path.join(validation_cats_dir, fname)\n",
    "    shutil.copyfile(src, dst)\n",
    "\n",
    "fnames = ['cat.{}.jpg'.format(i) for i in range(1500, 2000)]\n",
    "for fname in fnames:\n",
    "    src = os.path.join(original_dataset_dir, fname)\n",
    "    dst = os.path.join(test_cats_dir, fname)\n",
    "    shutil.copyfile(src, dst)\n",
    "    \n",
    "fnames = ['dog.{}.jpg'.format(i) for i in range(1000)]\n",
    "for fname in fnames:\n",
    "    src = os.path.join(original_dataset_dir, fname)\n",
    "    dst = os.path.join(train_dogs_dir, fname)\n",
    "    shutil.copyfile(src, dst)\n",
    "\n",
    "fnames = ['dog.{}.jpg'.format(i) for i in range(1000, 1500)]\n",
    "for fname in fnames:\n",
    "    src = os.path.join(original_dataset_dir, fname)\n",
    "    dst = os.path.join(validation_dogs_dir, fname)\n",
    "    shutil.copyfile(src, dst)\n",
    "\n",
    "fnames = ['dog.{}.jpg'.format(i) for i in range(1500, 2000)]\n",
    "for fname in fnames:\n",
    "    src = os.path.join(original_dataset_dir, fname)\n",
    "    dst = os.path.join(test_dogs_dir, fname)\n",
    "    shutil.copyfile(src, dst)"
   ]
  },
  {
   "cell_type": "code",
   "execution_count": 13,
   "metadata": {
    "colab": {
     "base_uri": "https://localhost:8080/",
     "height": 126
    },
    "id": "ul3XAbIyr7vC",
    "outputId": "08478cad-7949-4c2f-fd14-8f770755edd9"
   },
   "outputs": [
    {
     "name": "stdout",
     "output_type": "stream",
     "text": [
      "total training cat images: 1000\n",
      "total training dog images: 1000\n",
      "total validation cat images: 500\n",
      "total validation dog images: 500\n",
      "total test cat images: 500\n",
      "total test dog images: 500\n"
     ]
    }
   ],
   "source": [
    "print('total training cat images:', len(os.listdir(train_cats_dir)))\n",
    "print('total training dog images:', len(os.listdir(train_dogs_dir)))\n",
    "print('total validation cat images:', len(os.listdir(validation_cats_dir)))\n",
    "\n",
    "print('total validation dog images:', len(os.listdir(validation_dogs_dir)))\n",
    "print('total test cat images:', len(os.listdir(test_cats_dir)))\n",
    "print('total test dog images:', len(os.listdir(test_dogs_dir)))"
   ]
  },
  {
   "cell_type": "code",
   "execution_count": 14,
   "metadata": {
    "colab": {
     "base_uri": "https://localhost:8080/",
     "height": 794
    },
    "id": "o9yTA21_r-ma",
    "outputId": "b07348ee-29e6-4ecd-b4f2-f7d3ad8ef4e4"
   },
   "outputs": [
    {
     "name": "stderr",
     "output_type": "stream",
     "text": [
      "C:\\Users\\Myra\\Anaconda3\\lib\\site-packages\\numpy\\_distributor_init.py:32: UserWarning: loaded more than 1 DLL from .libs:\n",
      "C:\\Users\\Myra\\Anaconda3\\lib\\site-packages\\numpy\\.libs\\libopenblas.NOIJJG62EMASZI6NYURL6JBKM4EVBGM7.gfortran-win_amd64.dll\n",
      "C:\\Users\\Myra\\Anaconda3\\lib\\site-packages\\numpy\\.libs\\libopenblas.WCDJNK7YVMPZQ2ME2ZZHJJRJ3JIKNDB7.gfortran-win_amd64.dll\n",
      "  stacklevel=1)\n"
     ]
    },
    {
     "name": "stdout",
     "output_type": "stream",
     "text": [
      "Model: \"sequential\"\n",
      "_________________________________________________________________\n",
      "Layer (type)                 Output Shape              Param #   \n",
      "=================================================================\n",
      "conv2d (Conv2D)              (None, 148, 148, 32)      896       \n",
      "_________________________________________________________________\n",
      "max_pooling2d (MaxPooling2D) (None, 74, 74, 32)        0         \n",
      "_________________________________________________________________\n",
      "conv2d_1 (Conv2D)            (None, 72, 72, 64)        18496     \n",
      "_________________________________________________________________\n",
      "max_pooling2d_1 (MaxPooling2 (None, 36, 36, 64)        0         \n",
      "_________________________________________________________________\n",
      "conv2d_2 (Conv2D)            (None, 34, 34, 128)       73856     \n",
      "_________________________________________________________________\n",
      "max_pooling2d_2 (MaxPooling2 (None, 17, 17, 128)       0         \n",
      "_________________________________________________________________\n",
      "conv2d_3 (Conv2D)            (None, 15, 15, 128)       147584    \n",
      "_________________________________________________________________\n",
      "max_pooling2d_3 (MaxPooling2 (None, 7, 7, 128)         0         \n",
      "_________________________________________________________________\n",
      "flatten (Flatten)            (None, 6272)              0         \n",
      "_________________________________________________________________\n",
      "dense (Dense)                (None, 512)               3211776   \n",
      "_________________________________________________________________\n",
      "dense_1 (Dense)              (None, 1)                 513       \n",
      "=================================================================\n",
      "Total params: 3,453,121\n",
      "Trainable params: 3,453,121\n",
      "Non-trainable params: 0\n",
      "_________________________________________________________________\n"
     ]
    }
   ],
   "source": [
    "from keras import layers\n",
    "from keras import models\n",
    "\n",
    "model = models.Sequential()\n",
    "model.add(layers.Conv2D(32, (3, 3), activation='relu', input_shape=(150, 150, 3)))\n",
    "model.add(layers.MaxPooling2D((2, 2)))\n",
    "model.add(layers.Conv2D(64, (3, 3), activation='relu'))\n",
    "model.add(layers.MaxPooling2D((2, 2)))\n",
    "model.add(layers.Conv2D(128, (3, 3), activation='relu'))\n",
    "model.add(layers.MaxPooling2D((2, 2)))\n",
    "model.add(layers.Conv2D(128, (3, 3), activation='relu'))\n",
    "model.add(layers.MaxPooling2D((2, 2)))\n",
    "model.add(layers.Flatten())\n",
    "model.add(layers.Dense(512, activation='relu'))\n",
    "model.add(layers.Dense(1, activation='sigmoid'))\n",
    "model.summary()"
   ]
  },
  {
   "cell_type": "code",
   "execution_count": 15,
   "metadata": {
    "colab": {
     "base_uri": "https://localhost:8080/",
     "height": 165
    },
    "id": "2mG8wekxsBVS",
    "outputId": "7a4d3932-3c3e-405c-81e3-7466b7e624c7"
   },
   "outputs": [],
   "source": [
    "from keras import optimizers\n",
    "model.compile(loss='binary_crossentropy', \n",
    "              optimizer=optimizers.RMSprop(lr=1e-4),\n",
    "              metrics=['acc'])"
   ]
  },
  {
   "cell_type": "markdown",
   "metadata": {
    "id": "7zS4Klm8qWp6"
   },
   "source": [
    "## Using ImageDataGenerator to read images from directories\n",
    "As you know by now, data should be formatted into appropriately preprocessed floatingpoint tensors before being fed into the network. Currently, the data sits on a drive as JPEG files, so the steps for getting it into the network are roughly as follows:\n",
    "\n",
    "* Read the picture files.\n",
    "* Decode the JPEG content to RGB grids of pixels.\n",
    "* Convert these into floating-point tensors.\n",
    "* Rescale the pixel values (between 0 and 255) to the [0, 1] interval (as you know, neural networks prefer to deal with small input values).\n",
    "\n",
    "It may seem a bit daunting, but fortunately Keras has utilities to take care of these steps automatically. Keras has a module with image-processing helper tools, located at keras.preprocessing.image. In particular, it contains the class ImageDataGenerator,which lets you quickly set up Python generators that can automatically turn image files on disk into batches of preprocessed tensors."
   ]
  },
  {
   "cell_type": "code",
   "execution_count": 16,
   "metadata": {
    "colab": {
     "base_uri": "https://localhost:8080/",
     "height": 54
    },
    "id": "XJ7XU7t9sEh6",
    "outputId": "fa65adfb-672f-4953-a246-f0e720624b6e"
   },
   "outputs": [
    {
     "name": "stdout",
     "output_type": "stream",
     "text": [
      "Found 2000 images belonging to 2 classes.\n",
      "Found 1000 images belonging to 2 classes.\n"
     ]
    }
   ],
   "source": [
    "from keras.preprocessing.image import ImageDataGenerator\n",
    "\n",
    "train_datagen = ImageDataGenerator(rescale=1./255)\n",
    "test_datagen = ImageDataGenerator(rescale=1./255)\n",
    "\n",
    "train_generator = train_datagen.flow_from_directory(train_dir,\n",
    "                                                    target_size=(150, 150), \n",
    "                                                    batch_size=20,\n",
    "                                                    class_mode='binary')\n",
    "\n",
    "validation_generator = test_datagen.flow_from_directory(validation_dir,\n",
    "                                                        target_size=(150, 150),\n",
    "                                                        batch_size=20,\n",
    "                                                        class_mode='binary')"
   ]
  },
  {
   "cell_type": "markdown",
   "metadata": {
    "id": "SEgLywySqm4u"
   },
   "source": [
    "Let’s fit the model to the data using the generator. You do so using the fit_generator method, the equivalent of fit for data generators like this one. It expects as its first argument a Python generator that will yield batches of inputs and targets indefinitely,like this one does. Because the data is being generated endlessly, the Keras model needs to know how many samples to draw from the generator before declaring anepoch over. This is the role of the `steps_per_epoch` argument: after having drawn `steps_per_epoch` batches from the generator—that is, after having run for `steps_per_epoch` gradient descent steps—the fitting process will go to the next epoch. In this case, batches are 20 samples, so it will take 100 batches until you see your target of 2,000 samples.\n",
    "\n",
    "When using fit_generator, you can pass a validation_data argument, much as with the fit method. It’s important to note that this argument is allowed to be a data generator, but it could also be a tuple of Numpy arrays. If you pass a generator as validation_data, then this generator is expected to yield batches of validation data endlessly; thus you should also specify the validation_steps argument, which tells the process how many batches to draw from the validation generator for evaluation."
   ]
  },
  {
   "cell_type": "code",
   "execution_count": 17,
   "metadata": {
    "colab": {
     "base_uri": "https://localhost:8080/",
     "height": 1000
    },
    "id": "yMyfPphJsJG6",
    "outputId": "327d5f4e-31e9-4d8f-fc2e-757e5da644ef"
   },
   "outputs": [
    {
     "name": "stderr",
     "output_type": "stream",
     "text": [
      "C:\\Users\\Myra\\AppData\\Roaming\\Python\\Python37\\site-packages\\tensorflow\\python\\keras\\engine\\training.py:1844: UserWarning: `Model.fit_generator` is deprecated and will be removed in a future version. Please use `Model.fit`, which supports generators.\n",
      "  warnings.warn('`Model.fit_generator` is deprecated and '\n"
     ]
    },
    {
     "name": "stdout",
     "output_type": "stream",
     "text": [
      "Epoch 1/30\n",
      "100/100 [==============================] - 36s 349ms/step - loss: 0.6934 - acc: 0.5377 - val_loss: 0.6804 - val_acc: 0.4950\n",
      "Epoch 2/30\n",
      "100/100 [==============================] - 30s 295ms/step - loss: 0.6619 - acc: 0.6029 - val_loss: 0.6725 - val_acc: 0.5850\n",
      "Epoch 3/30\n",
      "100/100 [==============================] - 33s 328ms/step - loss: 0.6221 - acc: 0.6389 - val_loss: 0.6034 - val_acc: 0.6850\n",
      "Epoch 4/30\n",
      "100/100 [==============================] - 31s 305ms/step - loss: 0.5704 - acc: 0.7062 - val_loss: 0.5843 - val_acc: 0.6750\n",
      "Epoch 5/30\n",
      "100/100 [==============================] - 31s 311ms/step - loss: 0.5397 - acc: 0.7140 - val_loss: 0.5527 - val_acc: 0.7250\n",
      "Epoch 6/30\n",
      "100/100 [==============================] - 33s 325ms/step - loss: 0.5039 - acc: 0.7524 - val_loss: 0.6870 - val_acc: 0.5950\n",
      "Epoch 7/30\n",
      "100/100 [==============================] - 33s 330ms/step - loss: 0.4959 - acc: 0.7676 - val_loss: 0.5525 - val_acc: 0.7100\n",
      "Epoch 8/30\n",
      "100/100 [==============================] - 31s 306ms/step - loss: 0.4389 - acc: 0.7957 - val_loss: 0.6139 - val_acc: 0.6700\n",
      "Epoch 9/30\n",
      "100/100 [==============================] - 29s 287ms/step - loss: 0.4243 - acc: 0.8136 - val_loss: 0.5786 - val_acc: 0.6700\n",
      "Epoch 10/30\n",
      "100/100 [==============================] - 30s 302ms/step - loss: 0.4040 - acc: 0.8198 - val_loss: 0.5558 - val_acc: 0.6850\n",
      "Epoch 11/30\n",
      "100/100 [==============================] - 29s 294ms/step - loss: 0.3599 - acc: 0.8489 - val_loss: 0.6734 - val_acc: 0.6700\n",
      "Epoch 12/30\n",
      "100/100 [==============================] - 32s 318ms/step - loss: 0.3455 - acc: 0.8549 - val_loss: 0.6565 - val_acc: 0.6800\n",
      "Epoch 13/30\n",
      "100/100 [==============================] - 31s 314ms/step - loss: 0.3116 - acc: 0.8767 - val_loss: 0.5766 - val_acc: 0.7150\n",
      "Epoch 14/30\n",
      "100/100 [==============================] - 29s 291ms/step - loss: 0.2954 - acc: 0.8872 - val_loss: 0.6858 - val_acc: 0.7000\n",
      "Epoch 15/30\n",
      "100/100 [==============================] - 29s 295ms/step - loss: 0.2764 - acc: 0.8747 - val_loss: 0.6887 - val_acc: 0.6750\n",
      "Epoch 16/30\n",
      "100/100 [==============================] - 29s 294ms/step - loss: 0.2454 - acc: 0.9104 - val_loss: 0.7335 - val_acc: 0.6700\n",
      "Epoch 17/30\n",
      "100/100 [==============================] - 29s 292ms/step - loss: 0.2147 - acc: 0.9249 - val_loss: 0.6757 - val_acc: 0.7000\n",
      "Epoch 18/30\n",
      "100/100 [==============================] - 29s 291ms/step - loss: 0.1882 - acc: 0.9318 - val_loss: 0.6243 - val_acc: 0.7700\n",
      "Epoch 19/30\n",
      "100/100 [==============================] - 29s 292ms/step - loss: 0.1722 - acc: 0.9381 - val_loss: 0.7443 - val_acc: 0.6600\n",
      "Epoch 20/30\n",
      "100/100 [==============================] - 29s 292ms/step - loss: 0.1514 - acc: 0.9471 - val_loss: 0.6672 - val_acc: 0.7750\n",
      "Epoch 21/30\n",
      "100/100 [==============================] - 29s 291ms/step - loss: 0.1259 - acc: 0.9649 - val_loss: 0.9526 - val_acc: 0.7000\n",
      "Epoch 22/30\n",
      "100/100 [==============================] - 31s 312ms/step - loss: 0.1083 - acc: 0.9688 - val_loss: 0.8756 - val_acc: 0.6900\n",
      "Epoch 23/30\n",
      "100/100 [==============================] - 32s 317ms/step - loss: 0.0849 - acc: 0.9733 - val_loss: 0.9181 - val_acc: 0.6750\n",
      "Epoch 24/30\n",
      "100/100 [==============================] - 33s 332ms/step - loss: 0.0794 - acc: 0.9733 - val_loss: 1.1801 - val_acc: 0.7350\n",
      "Epoch 25/30\n",
      "100/100 [==============================] - 34s 343ms/step - loss: 0.0879 - acc: 0.9714 - val_loss: 0.6206 - val_acc: 0.7700\n",
      "Epoch 26/30\n",
      "100/100 [==============================] - 33s 332ms/step - loss: 0.0614 - acc: 0.9831 - val_loss: 0.8413 - val_acc: 0.7350\n",
      "Epoch 27/30\n",
      "100/100 [==============================] - 34s 337ms/step - loss: 0.0536 - acc: 0.9818 - val_loss: 1.0700 - val_acc: 0.6700\n",
      "Epoch 28/30\n",
      "100/100 [==============================] - 34s 338ms/step - loss: 0.0460 - acc: 0.9861 - val_loss: 0.8856 - val_acc: 0.7550\n",
      "Epoch 29/30\n",
      "100/100 [==============================] - 35s 345ms/step - loss: 0.0333 - acc: 0.9929 - val_loss: 1.0436 - val_acc: 0.7150\n",
      "Epoch 30/30\n",
      "100/100 [==============================] - 34s 343ms/step - loss: 0.0490 - acc: 0.9861 - val_loss: 1.4094 - val_acc: 0.6800\n"
     ]
    }
   ],
   "source": [
    "history = model.fit_generator(train_generator,\n",
    "                              steps_per_epoch=100,\n",
    "                              epochs=30,\n",
    "                              validation_data=validation_generator,\n",
    "                              validation_steps=10)"
   ]
  },
  {
   "cell_type": "code",
   "execution_count": 19,
   "metadata": {
    "colab": {
     "base_uri": "https://localhost:8080/",
     "height": 545
    },
    "id": "MZaZ2HWZsNUi",
    "outputId": "53e28de5-14bb-4d86-93a8-0216eb5ed99a"
   },
   "outputs": [
    {
     "data": {
      "image/png": "[encoded data removed]",
      "text/plain": [
       "<Figure size 432x288 with 1 Axes>"
      ]
     },
     "metadata": {
      "needs_background": "light"
     },
     "output_type": "display_data"
    },
    {
     "data": {
      "image/png": "[encoded data removed]",
      "text/plain": [
       "<Figure size 432x288 with 1 Axes>"
      ]
     },
     "metadata": {
      "needs_background": "light"
     },
     "output_type": "display_data"
    }
   ],
   "source": [
    "model.save('cats_and_dogs_small_1.h5')\n",
    "\n",
    "import matplotlib.pyplot as plt\n",
    "\n",
    "acc = history.history['acc']\n",
    "val_acc = history.history['val_acc']\n",
    "loss = history.history['loss']\n",
    "val_loss = history.history['val_loss']\n",
    "\n",
    "epochs = range(1, len(acc) + 1)\n",
    "\n",
    "plt.plot(epochs, acc, 'bo', label='Training acc')\n",
    "plt.plot(epochs, val_acc, 'b', label='Validation acc')\n",
    "plt.title('Training and validation accuracy')\n",
    "plt.legend()\n",
    "\n",
    "plt.figure()\n",
    "\n",
    "plt.plot(epochs, loss, 'bo', label='Training loss')\n",
    "plt.plot(epochs, val_loss, 'b', label='Validation loss')\n",
    "plt.title('Training and validation loss')\n",
    "plt.legend()\n",
    "\n",
    "plt.show()"
   ]
  },
  {
   "cell_type": "markdown",
   "metadata": {
    "id": "XKZmXmBcq_8-"
   },
   "source": [
    "## Convolutional Networks with Dropout\n",
    "\n",
    "![alt text](https://camo.githubusercontent.com/ee6fa1073247cd2c3d241300caf110d7a7541bc5/68747470733a2f2f63646e2d696d616765732d312e6d656469756d2e636f6d2f6d61782f3830302f312a4972644a355067684439596f4f7956415137334d4a772e676966)\n",
    "\n",
    "Ref: https://github.com/mneha4/Training-Neural-Nets---Guidelines"
   ]
  },
  {
   "cell_type": "code",
   "execution_count": 20,
   "metadata": {
    "colab": {
     "base_uri": "https://localhost:8080/",
     "height": 128
    },
    "id": "wu3cqeYQrDeN",
    "outputId": "6d0496d8-2548-4bab-e5b4-95d684ab5c20"
   },
   "outputs": [],
   "source": [
    "model = models.Sequential()\n",
    "model.add(layers.Conv2D(32, (3, 3), activation='relu',\n",
    "input_shape=(150, 150, 3)))\n",
    "model.add(layers.MaxPooling2D((2, 2)))\n",
    "model.add(layers.Conv2D(64, (3, 3), activation='relu'))\n",
    "model.add(layers.MaxPooling2D((2, 2)))\n",
    "model.add(layers.Conv2D(128, (3, 3), activation='relu'))\n",
    "model.add(layers.MaxPooling2D((2, 2)))\n",
    "model.add(layers.Conv2D(128, (3, 3), activation='relu'))\n",
    "model.add(layers.MaxPooling2D((2, 2)))\n",
    "model.add(layers.Flatten())\n",
    "model.add(layers.Dropout(0.5))\n",
    "model.add(layers.Dense(512, activation='relu'))\n",
    "model.add(layers.Dense(1, activation='sigmoid'))\n",
    "\n",
    "model.compile(loss='binary_crossentropy',\n",
    "              optimizer=optimizers.RMSprop(lr=1e-4),\n",
    "              metrics=['acc'])"
   ]
  },
  {
   "cell_type": "code",
   "execution_count": 24,
   "metadata": {
    "colab": {
     "base_uri": "https://localhost:8080/",
     "height": 781
    },
    "id": "QSeLpvY0rH7F",
    "outputId": "a3b3a41b-bd03-4e45-c55a-61f8bcaeeb81"
   },
   "outputs": [
    {
     "name": "stdout",
     "output_type": "stream",
     "text": [
      "Found 2000 images belonging to 2 classes.\n",
      "Found 1000 images belonging to 2 classes.\n",
      "Epoch 1/20\n",
      "100/100 [==============================] - 33s 328ms/step - loss: 0.6650 - acc: 0.5850 - val_loss: 0.6544 - val_acc: 0.5940\n",
      "Epoch 2/20\n",
      "100/100 [==============================] - 34s 342ms/step - loss: 0.6525 - acc: 0.6065 - val_loss: 0.6685 - val_acc: 0.5810\n",
      "Epoch 3/20\n",
      "100/100 [==============================] - 34s 339ms/step - loss: 0.6410 - acc: 0.6225 - val_loss: 0.6200 - val_acc: 0.6370\n",
      "Epoch 4/20\n",
      "100/100 [==============================] - 35s 354ms/step - loss: 0.6262 - acc: 0.6460 - val_loss: 0.6259 - val_acc: 0.6320\n",
      "Epoch 5/20\n",
      "100/100 [==============================] - 34s 342ms/step - loss: 0.6144 - acc: 0.6555 - val_loss: 0.7039 - val_acc: 0.6150\n",
      "Epoch 6/20\n",
      "100/100 [==============================] - 35s 345ms/step - loss: 0.6011 - acc: 0.6730 - val_loss: 0.6346 - val_acc: 0.6600\n",
      "Epoch 7/20\n",
      "100/100 [==============================] - 37s 367ms/step - loss: 0.5944 - acc: 0.6700 - val_loss: 0.5748 - val_acc: 0.7040\n",
      "Epoch 8/20\n",
      "100/100 [==============================] - 35s 344ms/step - loss: 0.5979 - acc: 0.6815 - val_loss: 0.5928 - val_acc: 0.6630\n",
      "Epoch 9/20\n",
      "100/100 [==============================] - 34s 344ms/step - loss: 0.5881 - acc: 0.6875 - val_loss: 0.5543 - val_acc: 0.7130\n",
      "Epoch 10/20\n",
      "100/100 [==============================] - 35s 346ms/step - loss: 0.5771 - acc: 0.6990 - val_loss: 0.5513 - val_acc: 0.6980\n",
      "Epoch 11/20\n",
      "100/100 [==============================] - 36s 358ms/step - loss: 0.5708 - acc: 0.7000 - val_loss: 0.5807 - val_acc: 0.6940\n",
      "Epoch 12/20\n",
      "100/100 [==============================] - 36s 360ms/step - loss: 0.5800 - acc: 0.6925 - val_loss: 0.5299 - val_acc: 0.7300\n",
      "Epoch 13/20\n",
      "100/100 [==============================] - 35s 350ms/step - loss: 0.5748 - acc: 0.6945 - val_loss: 0.5694 - val_acc: 0.7000\n",
      "Epoch 14/20\n",
      "100/100 [==============================] - 35s 350ms/step - loss: 0.5618 - acc: 0.7050 - val_loss: 0.5916 - val_acc: 0.6900\n",
      "Epoch 15/20\n",
      "100/100 [==============================] - 34s 344ms/step - loss: 0.5535 - acc: 0.7050 - val_loss: 0.5251 - val_acc: 0.7290\n",
      "Epoch 16/20\n",
      "100/100 [==============================] - 34s 344ms/step - loss: 0.5572 - acc: 0.7130 - val_loss: 0.5420 - val_acc: 0.7210\n",
      "Epoch 17/20\n",
      "100/100 [==============================] - 35s 346ms/step - loss: 0.5387 - acc: 0.7195 - val_loss: 0.5273 - val_acc: 0.7260\n",
      "Epoch 18/20\n",
      "100/100 [==============================] - 35s 348ms/step - loss: 0.5394 - acc: 0.7290 - val_loss: 0.5129 - val_acc: 0.7470\n",
      "Epoch 19/20\n",
      "100/100 [==============================] - 35s 346ms/step - loss: 0.5378 - acc: 0.7210 - val_loss: 0.5114 - val_acc: 0.7470\n",
      "Epoch 20/20\n",
      "100/100 [==============================] - 34s 344ms/step - loss: 0.5312 - acc: 0.7335 - val_loss: 0.5178 - val_acc: 0.7360\n"
     ]
    }
   ],
   "source": [
    "\n",
    "train_datagen = ImageDataGenerator(rescale=1./255,\n",
    "                                   rotation_range=40,\n",
    "                                   width_shift_range=0.2,\n",
    "                                   height_shift_range=0.2,\n",
    "                                   shear_range=0.2,\n",
    "                                   zoom_range=0.2,\n",
    "                                   horizontal_flip=True,)\n",
    "\n",
    "test_datagen = ImageDataGenerator(rescale=1./255)\n",
    "\n",
    "train_generator = train_datagen.flow_from_directory(train_dir,\n",
    "                                                    target_size=(150, 150),\n",
    "                                                    batch_size=20,\n",
    "                                                    class_mode='binary')\n",
    "\n",
    "validation_generator = test_datagen.flow_from_directory(validation_dir,\n",
    "                                                        target_size=(150, 150),\n",
    "                                                        batch_size=20,\n",
    "                                                        class_mode='binary')\n",
    "\n",
    "history = model.fit_generator(train_generator,\n",
    "                              steps_per_epoch=100,\n",
    "                              epochs=20,\n",
    "                              validation_data=validation_generator,\n",
    "                              validation_steps=50)"
   ]
  },
  {
   "cell_type": "markdown",
   "metadata": {
    "id": "BRdU5yrkUF_b"
   },
   "source": [
    "# Task 2:\n",
    "\n",
    "We have used Dropout to enhance the performance of the CNN model. Can you please use whatever you like to further enhance the performance from `val_acc: 0.7506`? "
   ]
  },
  {
   "cell_type": "code",
   "execution_count": 25,
   "metadata": {},
   "outputs": [
    {
     "name": "stdout",
     "output_type": "stream",
     "text": [
      "Found 2000 images belonging to 2 classes.\n",
      "Found 1000 images belonging to 2 classes.\n",
      "Epoch 1/40\n",
      "50/50 [==============================] - 17s 340ms/step - loss: 0.5346 - acc: 0.7320 - val_loss: 0.5465 - val_acc: 0.7240\n",
      "Epoch 2/40\n",
      "50/50 [==============================] - 17s 341ms/step - loss: 0.5379 - acc: 0.7360 - val_loss: 0.5046 - val_acc: 0.7440\n",
      "Epoch 3/40\n",
      "50/50 [==============================] - 17s 340ms/step - loss: 0.5264 - acc: 0.7440 - val_loss: 0.4984 - val_acc: 0.7580\n",
      "Epoch 4/40\n",
      "50/50 [==============================] - 17s 337ms/step - loss: 0.5260 - acc: 0.7170 - val_loss: 0.6430 - val_acc: 0.6780\n",
      "Epoch 5/40\n",
      "50/50 [==============================] - 17s 337ms/step - loss: 0.5271 - acc: 0.7390 - val_loss: 0.5857 - val_acc: 0.7020\n",
      "Epoch 6/40\n",
      "50/50 [==============================] - 17s 337ms/step - loss: 0.5051 - acc: 0.7430 - val_loss: 0.4962 - val_acc: 0.7500\n",
      "Epoch 7/40\n",
      "50/50 [==============================] - 17s 338ms/step - loss: 0.5080 - acc: 0.7550 - val_loss: 0.4685 - val_acc: 0.7800\n",
      "Epoch 8/40\n",
      "50/50 [==============================] - 17s 338ms/step - loss: 0.5397 - acc: 0.7130 - val_loss: 0.6332 - val_acc: 0.6940\n",
      "Epoch 9/40\n",
      "50/50 [==============================] - 20s 402ms/step - loss: 0.5330 - acc: 0.7230 - val_loss: 0.4691 - val_acc: 0.7780\n",
      "Epoch 10/40\n",
      "50/50 [==============================] - 17s 341ms/step - loss: 0.5256 - acc: 0.7490 - val_loss: 0.5329 - val_acc: 0.7380\n",
      "Epoch 11/40\n",
      "50/50 [==============================] - 18s 355ms/step - loss: 0.5185 - acc: 0.7390 - val_loss: 0.5031 - val_acc: 0.7480\n",
      "Epoch 12/40\n",
      "50/50 [==============================] - 17s 343ms/step - loss: 0.5101 - acc: 0.7540 - val_loss: 0.5259 - val_acc: 0.7240\n",
      "Epoch 13/40\n",
      "50/50 [==============================] - 17s 347ms/step - loss: 0.5071 - acc: 0.7540 - val_loss: 0.5202 - val_acc: 0.7420\n",
      "Epoch 14/40\n",
      "50/50 [==============================] - 17s 344ms/step - loss: 0.5219 - acc: 0.7390 - val_loss: 0.4852 - val_acc: 0.7640\n",
      "Epoch 15/40\n",
      "50/50 [==============================] - 17s 344ms/step - loss: 0.5050 - acc: 0.7590 - val_loss: 0.5249 - val_acc: 0.7340\n",
      "Epoch 16/40\n",
      "50/50 [==============================] - 17s 346ms/step - loss: 0.5217 - acc: 0.7400 - val_loss: 0.4729 - val_acc: 0.7820\n",
      "Epoch 17/40\n",
      "50/50 [==============================] - 18s 357ms/step - loss: 0.4905 - acc: 0.7680 - val_loss: 0.4711 - val_acc: 0.7820\n",
      "Epoch 18/40\n",
      "50/50 [==============================] - 17s 347ms/step - loss: 0.5023 - acc: 0.7600 - val_loss: 0.5152 - val_acc: 0.7340\n",
      "Epoch 19/40\n",
      "50/50 [==============================] - 18s 350ms/step - loss: 0.4824 - acc: 0.7690 - val_loss: 0.5446 - val_acc: 0.7600\n",
      "Epoch 20/40\n",
      "50/50 [==============================] - 17s 346ms/step - loss: 0.5035 - acc: 0.7490 - val_loss: 0.4696 - val_acc: 0.7840\n",
      "Epoch 21/40\n",
      "50/50 [==============================] - 18s 356ms/step - loss: 0.4960 - acc: 0.7510 - val_loss: 0.5290 - val_acc: 0.7260\n",
      "Epoch 22/40\n",
      "50/50 [==============================] - 18s 359ms/step - loss: 0.5080 - acc: 0.7620 - val_loss: 0.4758 - val_acc: 0.7740\n",
      "Epoch 23/40\n",
      "50/50 [==============================] - 19s 374ms/step - loss: 0.4819 - acc: 0.7700 - val_loss: 0.4892 - val_acc: 0.7780\n",
      "Epoch 24/40\n",
      "50/50 [==============================] - 19s 376ms/step - loss: 0.5001 - acc: 0.7480 - val_loss: 0.5374 - val_acc: 0.7220\n",
      "Epoch 25/40\n",
      "50/50 [==============================] - 19s 380ms/step - loss: 0.4857 - acc: 0.7550 - val_loss: 0.4713 - val_acc: 0.7780\n",
      "Epoch 26/40\n",
      "50/50 [==============================] - 18s 365ms/step - loss: 0.4551 - acc: 0.7870 - val_loss: 0.5005 - val_acc: 0.7540\n",
      "Epoch 27/40\n",
      "50/50 [==============================] - 18s 355ms/step - loss: 0.4854 - acc: 0.7710 - val_loss: 0.5841 - val_acc: 0.7260\n",
      "Epoch 28/40\n",
      "50/50 [==============================] - 19s 372ms/step - loss: 0.4792 - acc: 0.7610 - val_loss: 0.4882 - val_acc: 0.7640\n",
      "Epoch 29/40\n",
      "50/50 [==============================] - 19s 377ms/step - loss: 0.5152 - acc: 0.7330 - val_loss: 0.6025 - val_acc: 0.6860\n",
      "Epoch 30/40\n",
      "50/50 [==============================] - 18s 360ms/step - loss: 0.4987 - acc: 0.7740 - val_loss: 0.4865 - val_acc: 0.7660\n",
      "Epoch 31/40\n",
      "50/50 [==============================] - 18s 354ms/step - loss: 0.4980 - acc: 0.7570 - val_loss: 0.4580 - val_acc: 0.7860\n",
      "Epoch 32/40\n",
      "50/50 [==============================] - 18s 352ms/step - loss: 0.4782 - acc: 0.7670 - val_loss: 0.5332 - val_acc: 0.7300\n",
      "Epoch 33/40\n",
      "50/50 [==============================] - 18s 350ms/step - loss: 0.4801 - acc: 0.7640 - val_loss: 0.4675 - val_acc: 0.7720\n",
      "Epoch 34/40\n",
      "50/50 [==============================] - 18s 354ms/step - loss: 0.4801 - acc: 0.7730 - val_loss: 0.4949 - val_acc: 0.7560\n",
      "Epoch 35/40\n",
      "50/50 [==============================] - 18s 355ms/step - loss: 0.4698 - acc: 0.7740 - val_loss: 0.5172 - val_acc: 0.7560\n",
      "Epoch 36/40\n",
      "50/50 [==============================] - 17s 349ms/step - loss: 0.4616 - acc: 0.7730 - val_loss: 0.5284 - val_acc: 0.7340\n",
      "Epoch 37/40\n",
      "50/50 [==============================] - 18s 352ms/step - loss: 0.4868 - acc: 0.7650 - val_loss: 0.5089 - val_acc: 0.7460\n",
      "Epoch 38/40\n",
      "50/50 [==============================] - 18s 350ms/step - loss: 0.4682 - acc: 0.7790 - val_loss: 0.5059 - val_acc: 0.7540\n",
      "Epoch 39/40\n",
      "50/50 [==============================] - 18s 365ms/step - loss: 0.4727 - acc: 0.7720 - val_loss: 0.5581 - val_acc: 0.7340\n",
      "Epoch 40/40\n",
      "50/50 [==============================] - 18s 353ms/step - loss: 0.4677 - acc: 0.7720 - val_loss: 0.4310 - val_acc: 0.7940\n"
     ]
    }
   ],
   "source": [
    "\n",
    "train_datagen = ImageDataGenerator(rescale=1./255,\n",
    "                                   rotation_range=40,\n",
    "                                   width_shift_range=0.2,\n",
    "                                   height_shift_range=0.2,\n",
    "                                   shear_range=0.2,\n",
    "                                   zoom_range=0.2,\n",
    "                                   horizontal_flip=True,)\n",
    "\n",
    "test_datagen = ImageDataGenerator(rescale=1./255)\n",
    "\n",
    "train_generator = train_datagen.flow_from_directory(train_dir,\n",
    "                                                    target_size=(150, 150),\n",
    "                                                    batch_size=20,\n",
    "                                                    class_mode='binary')\n",
    "\n",
    "validation_generator = test_datagen.flow_from_directory(validation_dir,\n",
    "                                                        target_size=(150, 150),\n",
    "                                                        batch_size=20,\n",
    "                                                        class_mode='binary')\n",
    "\n",
    "history = model.fit_generator(train_generator,\n",
    "                              steps_per_epoch=50,\n",
    "                              epochs=40,\n",
    "                              validation_data=validation_generator,\n",
    "                              validation_steps=25)"
   ]
  },
  {
   "cell_type": "code",
   "execution_count": null,
   "metadata": {},
   "outputs": [],
   "source": []
  }
 ],
 "metadata": {
  "accelerator": "GPU",
  "colab": {
   "include_colab_link": true,
   "name": "Exercise2_DogvsCat_CNN.ipynb",
   "provenance": []
  },
  "kernelspec": {
   "display_name": "Python 3",
   "language": "python",
   "name": "python3"
  },
  "language_info": {
   "codemirror_mode": {
    "name": "ipython",
    "version": 3
   },
   "file_extension": ".py",
   "mimetype": "text/x-python",
   "name": "python",
   "nbconvert_exporter": "python",
   "pygments_lexer": "ipython3",
   "version": "3.7.4"
  }
 },
 "nbformat": 4,
 "nbformat_minor": 1
}
