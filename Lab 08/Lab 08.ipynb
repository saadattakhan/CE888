{
 "cells": [
  {
   "cell_type": "code",
   "execution_count": 1,
   "metadata": {
    "colab": {
     "base_uri": "https://localhost:8080/"
    },
    "id": "SoC7NvUCyDCO",
    "outputId": "1133237a-c6d5-46ce-a7b0-1d97c0cd0812"
   },
   "outputs": [],
   "source": [
    "import os"
   ]
  },
  {
   "cell_type": "code",
   "execution_count": 3,
   "metadata": {
    "colab": {
     "base_uri": "https://localhost:8080/"
    },
    "id": "L0jTUDjjyNYx",
    "outputId": "33bc6701-18d2-403a-f504-b5ad820a31b6"
   },
   "outputs": [],
   "source": [
    "# Make new base directory\n",
    "original_dataset_dir_cats = \"data/cats\"\n",
    "original_dataset_dir_dogs = \"data/dogs\"\n",
    "original_dataset_dir_horses = \"data/horses\"\n",
    "original_dataset_dir_humans = \"data/Humans\"\n",
    "base_dir = \"data/all\"\n",
    "os.mkdir(base_dir)"
   ]
  },
  {
   "cell_type": "code",
   "execution_count": 10,
   "metadata": {
    "colab": {
     "base_uri": "https://localhost:8080/"
    },
    "id": "uro7nJZWyNbJ",
    "outputId": "6ef3e13e-3b8d-434e-b469-2abd8e65bf14"
   },
   "outputs": [],
   "source": [
    "train_dir = os.path.join(base_dir, 'train')\n",
    "os.mkdir(train_dir)\n",
    "\n",
    "validation_dir = os.path.join(base_dir, 'validation')\n",
    "os.mkdir(validation_dir)\n",
    "\n",
    "test_dir = os.path.join(base_dir, 'test')\n",
    "os.mkdir(test_dir)"
   ]
  },
  {
   "cell_type": "code",
   "execution_count": 5,
   "metadata": {
    "colab": {
     "base_uri": "https://localhost:8080/"
    },
    "id": "0iJojj1iyNd5",
    "outputId": "da13e2a8-4910-4bf4-d7c0-66cb937727d7"
   },
   "outputs": [],
   "source": [
    "import shutil\n",
    "fnames = ['cat.{}.jpg'.format(i) for i in range(1,130)]\n",
    "for fname in fnames:\n",
    "    src = os.path.join(original_dataset_dir_cats, fname)\n",
    "    dst = os.path.join(train_dir, fname)\n",
    "    #print(src,dst)\n",
    "    shutil.copyfile(src, dst)\n",
    "    \n",
    "fnames = ['cat.{}.jpg'.format(i) for i in range(130, 160)]\n",
    "for fname in fnames:\n",
    "    src = os.path.join(original_dataset_dir_cats, fname)\n",
    "    dst = os.path.join(validation_dir, fname)\n",
    "    shutil.copyfile(src, dst)\n",
    "\n",
    "fnames = ['cat.{}.jpg'.format(i) for i in range(160, 202)]\n",
    "for fname in fnames:\n",
    "    src = os.path.join(original_dataset_dir_cats, fname)\n",
    "    dst = os.path.join(test_dir, fname)\n",
    "    shutil.copyfile(src, dst)\n",
    "    \n",
    "fnames = ['dog.{}.jpg'.format(i) for i in range(1,130)]\n",
    "for fname in fnames:\n",
    "    src = os.path.join(original_dataset_dir_dogs, fname)\n",
    "    dst = os.path.join(train_dir, fname)\n",
    "    shutil.copyfile(src, dst)\n",
    "\n",
    "fnames = ['dog.{}.jpg'.format(i) for i in range(130, 160)]\n",
    "for fname in fnames:\n",
    "    src = os.path.join(original_dataset_dir_dogs, fname)\n",
    "    dst = os.path.join(validation_dir, fname)\n",
    "    shutil.copyfile(src, dst)\n",
    "\n",
    "fnames = ['dog.{}.jpg'.format(i) for i in range(160, 202)]\n",
    "for fname in fnames:\n",
    "    src = os.path.join(original_dataset_dir_dogs, fname)\n",
    "    dst = os.path.join(test_dir, fname)\n",
    "    shutil.copyfile(src, dst)\n",
    "\n",
    "fnames = ['horse-{}.jpg'.format(i) for i in range(1,130)]\n",
    "for fname in fnames:\n",
    "    src = os.path.join(original_dataset_dir_horses, fname)\n",
    "    dst = os.path.join(train_dir, fname)\n",
    "    #print(src,dst)\n",
    "    shutil.copyfile(src, dst)\n",
    "    \n",
    "fnames = ['horse-{}.jpg'.format(i) for i in range(130, 160)]\n",
    "for fname in fnames:\n",
    "    src = os.path.join(original_dataset_dir_horses, fname)\n",
    "    dst = os.path.join(validation_dir, fname)\n",
    "    shutil.copyfile(src, dst)\n",
    "\n",
    "fnames = ['horse-{}.jpg'.format(i) for i in range(160, 202)]\n",
    "for fname in fnames:\n",
    "    src = os.path.join(original_dataset_dir_horses, fname)\n",
    "    dst = os.path.join(test_dir, fname)\n",
    "    shutil.copyfile(src, dst)\n",
    "    \n",
    "fnames = ['rider-{}.jpg'.format(i) for i in range(1,130)]\n",
    "for fname in fnames:\n",
    "    src = os.path.join(original_dataset_dir_humans, fname)\n",
    "    dst = os.path.join(train_dir, fname)\n",
    "    shutil.copyfile(src, dst)\n",
    "\n",
    "fnames = ['rider-{}.jpg'.format(i) for i in range(130, 160)]\n",
    "for fname in fnames:\n",
    "    src = os.path.join(original_dataset_dir_humans, fname)\n",
    "    dst = os.path.join(validation_dir, fname)\n",
    "    shutil.copyfile(src, dst)\n",
    "\n",
    "fnames = ['rider-{}.jpg'.format(i) for i in range(160, 202)]\n",
    "for fname in fnames:\n",
    "    src = os.path.join(original_dataset_dir_humans, fname)\n",
    "    dst = os.path.join(test_dir, fname)\n",
    "    shutil.copyfile(src, dst)"
   ]
  },
  {
   "cell_type": "code",
   "execution_count": 6,
   "metadata": {
    "id": "p-n5OLnYyNgh"
   },
   "outputs": [
    {
     "name": "stderr",
     "output_type": "stream",
     "text": [
      "C:\\Users\\Myra\\Anaconda3\\lib\\site-packages\\numpy\\_distributor_init.py:32: UserWarning: loaded more than 1 DLL from .libs:\n",
      "C:\\Users\\Myra\\Anaconda3\\lib\\site-packages\\numpy\\.libs\\libopenblas.NOIJJG62EMASZI6NYURL6JBKM4EVBGM7.gfortran-win_amd64.dll\n",
      "C:\\Users\\Myra\\Anaconda3\\lib\\site-packages\\numpy\\.libs\\libopenblas.WCDJNK7YVMPZQ2ME2ZZHJJRJ3JIKNDB7.gfortran-win_amd64.dll\n",
      "  stacklevel=1)\n"
     ]
    }
   ],
   "source": [
    "import cv2\n",
    "import numpy as np\n",
    "from random import shuffle\n",
    "\n",
    "IMG_SIZE = 224\n",
    "LR = 1e-4"
   ]
  },
  {
   "cell_type": "code",
   "execution_count": 7,
   "metadata": {
    "id": "slIYlLTNyNt0"
   },
   "outputs": [],
   "source": [
    "def label_img(img):\n",
    "    word_label = img.split('.')[0].split('-')[0]\n",
    "    if word_label == 'dog': return 0\n",
    "    elif word_label == 'cat': return 1\n",
    "    elif word_label == 'horse': return 2\n",
    "    elif word_label == 'rider': return 3"
   ]
  },
  {
   "cell_type": "code",
   "execution_count": 8,
   "metadata": {
    "id": "7WQwR3TyyNwV"
   },
   "outputs": [],
   "source": [
    "def createDataSplitSet(datapath):\n",
    "    X=[]\n",
    "    y=[]\n",
    "\n",
    "    for img in os.listdir(datapath):\n",
    "        label = label_img(img)\n",
    "       \n",
    "        # print(label)\n",
    "        path = os.path.join(datapath, img)\n",
    "        image = cv2.resize(cv2.imread(path), (IMG_SIZE, IMG_SIZE))\n",
    "        image = cv2.normalize(image, None, alpha=0, beta=1, norm_type=cv2.NORM_MINMAX, dtype=cv2.CV_32F)\n",
    "\n",
    "        X.append(np.array(image))\n",
    "        y.append(label)\n",
    "\n",
    "    return np.array(X), np.array(y)"
   ]
  },
  {
   "cell_type": "code",
   "execution_count": 11,
   "metadata": {
    "id": "exXy_uglyNy8"
   },
   "outputs": [],
   "source": [
    "train_X, train_y = createDataSplitSet(train_dir)\n",
    "val_X, val_y = createDataSplitSet(validation_dir)\n",
    "test_X, test_y = createDataSplitSet(test_dir)"
   ]
  },
  {
   "cell_type": "code",
   "execution_count": 29,
   "metadata": {
    "id": "7v8B0xOByN4r"
   },
   "outputs": [],
   "source": [
    "from tensorflow.keras.applications import VGG16\n",
    "from tensorflow.keras.layers import Dense, Input, Flatten,Dropout\n",
    "from tensorflow.keras import Model\n",
    "from keras.layers.normalization import BatchNormalization"
   ]
  },
  {
   "cell_type": "code",
   "execution_count": 30,
   "metadata": {
    "id": "k98ISDr-yN1p"
   },
   "outputs": [],
   "source": [
    "img_input = Input(shape=(IMG_SIZE, IMG_SIZE, 3))"
   ]
  },
  {
   "cell_type": "code",
   "execution_count": 31,
   "metadata": {
    "colab": {
     "base_uri": "https://localhost:8080/"
    },
    "id": "OPMdcRRvyN7C",
    "outputId": "85b563fa-be1c-465e-f7d1-7853a3ab897c"
   },
   "outputs": [
    {
     "name": "stdout",
     "output_type": "stream",
     "text": [
      "Model: \"vgg16\"\n",
      "_________________________________________________________________\n",
      "Layer (type)                 Output Shape              Param #   \n",
      "=================================================================\n",
      "input_2 (InputLayer)         [(None, 224, 224, 3)]     0         \n",
      "_________________________________________________________________\n",
      "block1_conv1 (Conv2D)        (None, 224, 224, 64)      1792      \n",
      "_________________________________________________________________\n",
      "block1_conv2 (Conv2D)        (None, 224, 224, 64)      36928     \n",
      "_________________________________________________________________\n",
      "block1_pool (MaxPooling2D)   (None, 112, 112, 64)      0         \n",
      "_________________________________________________________________\n",
      "block2_conv1 (Conv2D)        (None, 112, 112, 128)     73856     \n",
      "_________________________________________________________________\n",
      "block2_conv2 (Conv2D)        (None, 112, 112, 128)     147584    \n",
      "_________________________________________________________________\n",
      "block2_pool (MaxPooling2D)   (None, 56, 56, 128)       0         \n",
      "_________________________________________________________________\n",
      "block3_conv1 (Conv2D)        (None, 56, 56, 256)       295168    \n",
      "_________________________________________________________________\n",
      "block3_conv2 (Conv2D)        (None, 56, 56, 256)       590080    \n",
      "_________________________________________________________________\n",
      "block3_conv3 (Conv2D)        (None, 56, 56, 256)       590080    \n",
      "_________________________________________________________________\n",
      "block3_pool (MaxPooling2D)   (None, 28, 28, 256)       0         \n",
      "_________________________________________________________________\n",
      "block4_conv1 (Conv2D)        (None, 28, 28, 512)       1180160   \n",
      "_________________________________________________________________\n",
      "block4_conv2 (Conv2D)        (None, 28, 28, 512)       2359808   \n",
      "_________________________________________________________________\n",
      "block4_conv3 (Conv2D)        (None, 28, 28, 512)       2359808   \n",
      "_________________________________________________________________\n",
      "block4_pool (MaxPooling2D)   (None, 14, 14, 512)       0         \n",
      "_________________________________________________________________\n",
      "block5_conv1 (Conv2D)        (None, 14, 14, 512)       2359808   \n",
      "_________________________________________________________________\n",
      "block5_conv2 (Conv2D)        (None, 14, 14, 512)       2359808   \n",
      "_________________________________________________________________\n",
      "block5_conv3 (Conv2D)        (None, 14, 14, 512)       2359808   \n",
      "_________________________________________________________________\n",
      "block5_pool (MaxPooling2D)   (None, 7, 7, 512)         0         \n",
      "_________________________________________________________________\n",
      "flatten (Flatten)            (None, 25088)             0         \n",
      "_________________________________________________________________\n",
      "fc1 (Dense)                  (None, 4096)              102764544 \n",
      "_________________________________________________________________\n",
      "fc2 (Dense)                  (None, 4096)              16781312  \n",
      "_________________________________________________________________\n",
      "predictions (Dense)          (None, 1000)              4097000   \n",
      "=================================================================\n",
      "Total params: 138,357,544\n",
      "Trainable params: 138,357,544\n",
      "Non-trainable params: 0\n",
      "_________________________________________________________________\n"
     ]
    }
   ],
   "source": [
    "model = VGG16(\n",
    "    include_top=True,\n",
    "    weights=\"imagenet\",\n",
    "    input_tensor=img_input,\n",
    "    input_shape=None,\n",
    "    pooling=None,\n",
    "    classes=1000,\n",
    "    classifier_activation=\"softmax\")\n",
    "model.summary()"
   ]
  },
  {
   "cell_type": "code",
   "execution_count": 32,
   "metadata": {
    "colab": {
     "base_uri": "https://localhost:8080/"
    },
    "id": "Q_U4ktAeyN-B",
    "outputId": "4a894b0b-93f1-4897-cff8-8f617f09bfb8"
   },
   "outputs": [
    {
     "name": "stdout",
     "output_type": "stream",
     "text": [
      "Model: \"model_2\"\n",
      "_________________________________________________________________\n",
      "Layer (type)                 Output Shape              Param #   \n",
      "=================================================================\n",
      "input_2 (InputLayer)         [(None, 224, 224, 3)]     0         \n",
      "_________________________________________________________________\n",
      "block1_conv1 (Conv2D)        (None, 224, 224, 64)      1792      \n",
      "_________________________________________________________________\n",
      "block1_conv2 (Conv2D)        (None, 224, 224, 64)      36928     \n",
      "_________________________________________________________________\n",
      "block1_pool (MaxPooling2D)   (None, 112, 112, 64)      0         \n",
      "_________________________________________________________________\n",
      "block2_conv1 (Conv2D)        (None, 112, 112, 128)     73856     \n",
      "_________________________________________________________________\n",
      "block2_conv2 (Conv2D)        (None, 112, 112, 128)     147584    \n",
      "_________________________________________________________________\n",
      "block2_pool (MaxPooling2D)   (None, 56, 56, 128)       0         \n",
      "_________________________________________________________________\n",
      "block3_conv1 (Conv2D)        (None, 56, 56, 256)       295168    \n",
      "_________________________________________________________________\n",
      "block3_conv2 (Conv2D)        (None, 56, 56, 256)       590080    \n",
      "_________________________________________________________________\n",
      "block3_conv3 (Conv2D)        (None, 56, 56, 256)       590080    \n",
      "_________________________________________________________________\n",
      "block3_pool (MaxPooling2D)   (None, 28, 28, 256)       0         \n",
      "_________________________________________________________________\n",
      "block4_conv1 (Conv2D)        (None, 28, 28, 512)       1180160   \n",
      "_________________________________________________________________\n",
      "block4_conv2 (Conv2D)        (None, 28, 28, 512)       2359808   \n",
      "_________________________________________________________________\n",
      "block4_conv3 (Conv2D)        (None, 28, 28, 512)       2359808   \n",
      "_________________________________________________________________\n",
      "block4_pool (MaxPooling2D)   (None, 14, 14, 512)       0         \n",
      "_________________________________________________________________\n",
      "block5_conv1 (Conv2D)        (None, 14, 14, 512)       2359808   \n",
      "_________________________________________________________________\n",
      "block5_conv2 (Conv2D)        (None, 14, 14, 512)       2359808   \n",
      "_________________________________________________________________\n",
      "block5_conv3 (Conv2D)        (None, 14, 14, 512)       2359808   \n",
      "_________________________________________________________________\n",
      "block5_pool (MaxPooling2D)   (None, 7, 7, 512)         0         \n",
      "_________________________________________________________________\n",
      "flatten (Flatten)            (None, 25088)             0         \n",
      "_________________________________________________________________\n",
      "fc1 (Dense)                  (None, 4096)              102764544 \n",
      "_________________________________________________________________\n",
      "fc2 (Dense)                  (None, 4096)              16781312  \n",
      "_________________________________________________________________\n",
      "output (Dense)               (None, 4)                 16388     \n",
      "=================================================================\n",
      "Total params: 134,276,932\n",
      "Trainable params: 16,388\n",
      "Non-trainable params: 134,260,544\n",
      "_________________________________________________________________\n"
     ]
    }
   ],
   "source": [
    "last_layer = model.get_layer('fc2').output\n",
    "out = Dense(4, activation='sigmoid', name='output')(last_layer)  ## 2 classes\n",
    "model = Model(img_input, out)\n",
    "\n",
    "for layer in model.layers[:-1]:\n",
    "\tlayer.trainable = False\n",
    "\n",
    "model.summary()"
   ]
  },
  {
   "cell_type": "code",
   "execution_count": 36,
   "metadata": {
    "id": "kduJo897yOAx"
   },
   "outputs": [],
   "source": [
    "model.compile(loss='sparse_categorical_crossentropy',\n",
    "              optimizer='adam',\n",
    "              metrics=['acc'])"
   ]
  },
  {
   "cell_type": "code",
   "execution_count": 37,
   "metadata": {
    "id": "T7sIfGJ81FTU"
   },
   "outputs": [],
   "source": [
    "from tensorflow.keras.callbacks import EarlyStopping, ModelCheckpoint\n",
    "my_callbacks = [\n",
    "    EarlyStopping(monitor=\"val_loss\", patience=5, restore_best_weights=True),\n",
    "    ModelCheckpoint(filepath='vgg16_model.h5', save_best_only=True),\n",
    "]"
   ]
  },
  {
   "cell_type": "code",
   "execution_count": 38,
   "metadata": {
    "colab": {
     "base_uri": "https://localhost:8080/"
    },
    "id": "mq6XWIQ9yODX",
    "outputId": "0b820641-12be-4853-9929-d24e10c9b7c0"
   },
   "outputs": [
    {
     "name": "stdout",
     "output_type": "stream",
     "text": [
      "Epoch 1/10\n",
      "52/52 [==============================] - 69s 1s/step - loss: 1.5049 - acc: 0.3796 - val_loss: 0.7278 - val_acc: 0.6250\n",
      "Epoch 2/10\n",
      "52/52 [==============================] - 69s 1s/step - loss: 0.4993 - acc: 0.8238 - val_loss: 0.5489 - val_acc: 0.7750\n",
      "Epoch 3/10\n",
      "52/52 [==============================] - 69s 1s/step - loss: 0.4745 - acc: 0.8338 - val_loss: 0.3773 - val_acc: 0.8750\n",
      "Epoch 4/10\n",
      "52/52 [==============================] - 70s 1s/step - loss: 0.4157 - acc: 0.8665 - val_loss: 0.3471 - val_acc: 0.9167\n",
      "Epoch 5/10\n",
      "52/52 [==============================] - 70s 1s/step - loss: 0.3113 - acc: 0.9050 - val_loss: 0.4011 - val_acc: 0.8417\n",
      "Epoch 6/10\n",
      "52/52 [==============================] - 70s 1s/step - loss: 0.3966 - acc: 0.8663 - val_loss: 0.3153 - val_acc: 0.8917\n",
      "Epoch 7/10\n",
      "52/52 [==============================] - 67s 1s/step - loss: 0.2647 - acc: 0.9120 - val_loss: 0.4399 - val_acc: 0.8333\n",
      "Epoch 8/10\n",
      "52/52 [==============================] - 68s 1s/step - loss: 0.3244 - acc: 0.8834 - val_loss: 0.3100 - val_acc: 0.9000\n",
      "Epoch 9/10\n",
      "52/52 [==============================] - 68s 1s/step - loss: 0.2700 - acc: 0.9004 - val_loss: 0.2547 - val_acc: 0.9250\n",
      "Epoch 10/10\n",
      "52/52 [==============================] - 69s 1s/step - loss: 0.2534 - acc: 0.9038 - val_loss: 0.2512 - val_acc: 0.9083\n"
     ]
    }
   ],
   "source": [
    "history = model.fit(train_X, train_y,\n",
    "                               batch_size=10,\n",
    "                               epochs=10, \n",
    "                               validation_data=(val_X, val_y),\n",
    "                               callbacks=my_callbacks)"
   ]
  },
  {
   "cell_type": "code",
   "execution_count": 39,
   "metadata": {
    "colab": {
     "base_uri": "https://localhost:8080/",
     "height": 545
    },
    "id": "uiAWn9TgyOGW",
    "outputId": "25ee0c9b-b1a0-4b1b-e95b-7d0e8bdf0f97"
   },
   "outputs": [
    {
     "data": {
      "image/png": "[encoded data removed]",
      "text/plain": [
       "<Figure size 432x288 with 1 Axes>"
      ]
     },
     "metadata": {
      "needs_background": "light"
     },
     "output_type": "display_data"
    },
    {
     "data": {
      "image/png": "[encoded data removed]",
      "text/plain": [
       "<Figure size 432x288 with 1 Axes>"
      ]
     },
     "metadata": {
      "needs_background": "light"
     },
     "output_type": "display_data"
    }
   ],
   "source": [
    "import matplotlib.pyplot as plt\n",
    "acc = history.history['acc']\n",
    "val_acc = history.history['val_acc']\n",
    "loss = history.history['loss']\n",
    "val_loss = history.history['val_loss']\n",
    "\n",
    "epochs = range(1, len(acc) + 1)\n",
    "\n",
    "plt.plot(epochs, acc, 'bo', label='Training acc')\n",
    "plt.plot(epochs, val_acc, 'b', label='Validation acc')\n",
    "plt.title('Training and validation accuracy')\n",
    "plt.legend()\n",
    "\n",
    "plt.figure()\n",
    "\n",
    "plt.plot(epochs, loss, 'bo', label='Training loss')\n",
    "plt.plot(epochs, val_loss, 'b', label='Validation loss')\n",
    "plt.title('Training and validation loss')\n",
    "plt.legend()\n",
    "\n",
    "plt.show()"
   ]
  },
  {
   "cell_type": "code",
   "execution_count": 40,
   "metadata": {
    "colab": {
     "base_uri": "https://localhost:8080/"
    },
    "id": "r10cDo_ryOIl",
    "outputId": "9144fbd1-d59f-4a55-ae22-b7291dfa3fea"
   },
   "outputs": [
    {
     "name": "stdout",
     "output_type": "stream",
     "text": [
      "Train Accuracy:\t 0.8856589198112488\n",
      "Val Accuracy:\t 0.9083333611488342\n",
      "Test Accuracy:\t 0.8809523809523809\n",
      "Precision:\t 0.8916378648233487\n",
      "Recall:\t\t 0.8809523809523809\n",
      "F1 Score:\t 0.879067111008307\n"
     ]
    }
   ],
   "source": [
    "from sklearn.metrics import accuracy_score\n",
    "\n",
    "## Test Accuracy\n",
    "predictions = model.predict(test_X)\n",
    "#ypred = predictions > 0.5\n",
    "ypred = np.argmax(predictions, axis=1)\n",
    "test_acc = accuracy_score(test_y, ypred)\n",
    "\n",
    "from sklearn.metrics import precision_recall_fscore_support, roc_auc_score\n",
    "\n",
    "precision, recall, f1score, _ = precision_recall_fscore_support(test_y, ypred, average='macro')\n",
    "\n",
    "\n",
    "\n",
    "print(\"Train Accuracy:\\t\", acc[-1])\n",
    "print(\"Val Accuracy:\\t\", val_acc[-1])\n",
    "print(\"Test Accuracy:\\t\", test_acc)\n",
    "print(\"Precision:\\t\", precision)\n",
    "print(\"Recall:\\t\\t\", recall)\n",
    "print(\"F1 Score:\\t\", f1score)\n"
   ]
  },
  {
   "cell_type": "code",
   "execution_count": 41,
   "metadata": {
    "colab": {
     "base_uri": "https://localhost:8080/"
    },
    "id": "2_kUiwaQyOMF",
    "outputId": "5d39f929-207c-436f-8d13-cc17382a94ea"
   },
   "outputs": [
    {
     "name": "stdout",
     "output_type": "stream",
     "text": [
      "Model: \"vgg16\"\n",
      "_________________________________________________________________\n",
      "Layer (type)                 Output Shape              Param #   \n",
      "=================================================================\n",
      "input_2 (InputLayer)         [(None, 224, 224, 3)]     0         \n",
      "_________________________________________________________________\n",
      "block1_conv1 (Conv2D)        (None, 224, 224, 64)      1792      \n",
      "_________________________________________________________________\n",
      "block1_conv2 (Conv2D)        (None, 224, 224, 64)      36928     \n",
      "_________________________________________________________________\n",
      "block1_pool (MaxPooling2D)   (None, 112, 112, 64)      0         \n",
      "_________________________________________________________________\n",
      "block2_conv1 (Conv2D)        (None, 112, 112, 128)     73856     \n",
      "_________________________________________________________________\n",
      "block2_conv2 (Conv2D)        (None, 112, 112, 128)     147584    \n",
      "_________________________________________________________________\n",
      "block2_pool (MaxPooling2D)   (None, 56, 56, 128)       0         \n",
      "_________________________________________________________________\n",
      "block3_conv1 (Conv2D)        (None, 56, 56, 256)       295168    \n",
      "_________________________________________________________________\n",
      "block3_conv2 (Conv2D)        (None, 56, 56, 256)       590080    \n",
      "_________________________________________________________________\n",
      "block3_conv3 (Conv2D)        (None, 56, 56, 256)       590080    \n",
      "_________________________________________________________________\n",
      "block3_pool (MaxPooling2D)   (None, 28, 28, 256)       0         \n",
      "_________________________________________________________________\n",
      "block4_conv1 (Conv2D)        (None, 28, 28, 512)       1180160   \n",
      "_________________________________________________________________\n",
      "block4_conv2 (Conv2D)        (None, 28, 28, 512)       2359808   \n",
      "_________________________________________________________________\n",
      "block4_conv3 (Conv2D)        (None, 28, 28, 512)       2359808   \n",
      "_________________________________________________________________\n",
      "block4_pool (MaxPooling2D)   (None, 14, 14, 512)       0         \n",
      "_________________________________________________________________\n",
      "block5_conv1 (Conv2D)        (None, 14, 14, 512)       2359808   \n",
      "_________________________________________________________________\n",
      "block5_conv2 (Conv2D)        (None, 14, 14, 512)       2359808   \n",
      "_________________________________________________________________\n",
      "block5_conv3 (Conv2D)        (None, 14, 14, 512)       2359808   \n",
      "_________________________________________________________________\n",
      "block5_pool (MaxPooling2D)   (None, 7, 7, 512)         0         \n",
      "_________________________________________________________________\n",
      "flatten (Flatten)            (None, 25088)             0         \n",
      "_________________________________________________________________\n",
      "fc1 (Dense)                  (None, 4096)              102764544 \n",
      "_________________________________________________________________\n",
      "fc2 (Dense)                  (None, 4096)              16781312  \n",
      "_________________________________________________________________\n",
      "predictions (Dense)          (None, 1000)              4097000   \n",
      "=================================================================\n",
      "Total params: 138,357,544\n",
      "Trainable params: 138,357,544\n",
      "Non-trainable params: 0\n",
      "_________________________________________________________________\n"
     ]
    }
   ],
   "source": [
    "model = VGG16(\n",
    "    include_top=True,\n",
    "    weights=\"imagenet\",\n",
    "    input_tensor=img_input,\n",
    "    input_shape=None,\n",
    "    pooling=None,\n",
    "    classes=1000,\n",
    "    classifier_activation=\"softmax\")\n",
    "model.summary()"
   ]
  },
  {
   "cell_type": "code",
   "execution_count": 42,
   "metadata": {
    "colab": {
     "base_uri": "https://localhost:8080/"
    },
    "id": "K1Xkgda-yON5",
    "outputId": "f9deabe1-ac17-4f7d-99f7-13a252f56ab1"
   },
   "outputs": [
    {
     "name": "stdout",
     "output_type": "stream",
     "text": [
      "Model: \"model_3\"\n",
      "_________________________________________________________________\n",
      "Layer (type)                 Output Shape              Param #   \n",
      "=================================================================\n",
      "input_2 (InputLayer)         [(None, 224, 224, 3)]     0         \n",
      "_________________________________________________________________\n",
      "block1_conv1 (Conv2D)        (None, 224, 224, 64)      1792      \n",
      "_________________________________________________________________\n",
      "block1_conv2 (Conv2D)        (None, 224, 224, 64)      36928     \n",
      "_________________________________________________________________\n",
      "block1_pool (MaxPooling2D)   (None, 112, 112, 64)      0         \n",
      "_________________________________________________________________\n",
      "block2_conv1 (Conv2D)        (None, 112, 112, 128)     73856     \n",
      "_________________________________________________________________\n",
      "block2_conv2 (Conv2D)        (None, 112, 112, 128)     147584    \n",
      "_________________________________________________________________\n",
      "block2_pool (MaxPooling2D)   (None, 56, 56, 128)       0         \n",
      "_________________________________________________________________\n",
      "block3_conv1 (Conv2D)        (None, 56, 56, 256)       295168    \n",
      "_________________________________________________________________\n",
      "block3_conv2 (Conv2D)        (None, 56, 56, 256)       590080    \n",
      "_________________________________________________________________\n",
      "block3_conv3 (Conv2D)        (None, 56, 56, 256)       590080    \n",
      "_________________________________________________________________\n",
      "block3_pool (MaxPooling2D)   (None, 28, 28, 256)       0         \n",
      "_________________________________________________________________\n",
      "block4_conv1 (Conv2D)        (None, 28, 28, 512)       1180160   \n",
      "_________________________________________________________________\n",
      "block4_conv2 (Conv2D)        (None, 28, 28, 512)       2359808   \n",
      "_________________________________________________________________\n",
      "block4_conv3 (Conv2D)        (None, 28, 28, 512)       2359808   \n",
      "_________________________________________________________________\n",
      "block4_pool (MaxPooling2D)   (None, 14, 14, 512)       0         \n",
      "_________________________________________________________________\n",
      "block5_conv1 (Conv2D)        (None, 14, 14, 512)       2359808   \n",
      "_________________________________________________________________\n",
      "block5_conv2 (Conv2D)        (None, 14, 14, 512)       2359808   \n",
      "_________________________________________________________________\n",
      "block5_conv3 (Conv2D)        (None, 14, 14, 512)       2359808   \n",
      "_________________________________________________________________\n",
      "block5_pool (MaxPooling2D)   (None, 7, 7, 512)         0         \n",
      "_________________________________________________________________\n",
      "flatten (Flatten)            (None, 25088)             0         \n",
      "_________________________________________________________________\n",
      "fc1 (Dense)                  (None, 128)               3211392   \n",
      "_________________________________________________________________\n",
      "fc2 (Dense)                  (None, 64)                8256      \n",
      "_________________________________________________________________\n",
      "output (Dense)               (None, 4)                 260       \n",
      "=================================================================\n",
      "Total params: 17,934,596\n",
      "Trainable params: 3,219,908\n",
      "Non-trainable params: 14,714,688\n",
      "_________________________________________________________________\n"
     ]
    }
   ],
   "source": [
    "last_layer = model.get_layer('block5_pool').output\n",
    "x= Flatten(name='flatten')(last_layer)\n",
    "x = Dense(128, activation='relu', name='fc1')(x)\n",
    "x = Dense(64, activation='relu', name='fc2')(x)\n",
    "out = Dense(4, activation='sigmoid', name='output')(x) \n",
    "model = Model(img_input, out)\n",
    "\n",
    "for layer in model.layers[:-3]:\n",
    "\tlayer.trainable = False\n",
    "\n",
    "\n",
    "model.summary()"
   ]
  },
  {
   "cell_type": "code",
   "execution_count": 43,
   "metadata": {
    "id": "2HS7YsFB0I5D"
   },
   "outputs": [],
   "source": [
    "model.compile(loss='sparse_categorical_crossentropy',\n",
    "              optimizer='nadam',\n",
    "              metrics=['acc'])"
   ]
  },
  {
   "cell_type": "code",
   "execution_count": 44,
   "metadata": {
    "id": "hVf0wdiT0I7m"
   },
   "outputs": [],
   "source": [
    "from tensorflow.keras.callbacks import EarlyStopping, ModelCheckpoint\n",
    "my_callbacks = [\n",
    "    EarlyStopping(monitor=\"val_loss\", patience=5, restore_best_weights=True),\n",
    "    ModelCheckpoint(filepath='vgg16_model.h5', save_best_only=True),\n",
    "]"
   ]
  },
  {
   "cell_type": "code",
   "execution_count": 45,
   "metadata": {
    "colab": {
     "base_uri": "https://localhost:8080/"
    },
    "id": "yPuwM7za0I-m",
    "outputId": "904e6dc0-527d-4222-fa43-6d9e8d4e7c8a"
   },
   "outputs": [
    {
     "name": "stdout",
     "output_type": "stream",
     "text": [
      "Epoch 1/10\n",
      "52/52 [==============================] - 65s 1s/step - loss: 1.5361 - acc: 0.4831 - val_loss: 0.2944 - val_acc: 0.8917\n",
      "Epoch 2/10\n",
      "52/52 [==============================] - 74s 1s/step - loss: 0.1347 - acc: 0.9657 - val_loss: 0.2078 - val_acc: 0.9250\n",
      "Epoch 3/10\n",
      "52/52 [==============================] - 73s 1s/step - loss: 0.0244 - acc: 1.0000 - val_loss: 0.2072 - val_acc: 0.9333\n",
      "Epoch 4/10\n",
      "52/52 [==============================] - 72s 1s/step - loss: 0.0080 - acc: 1.0000 - val_loss: 0.1994 - val_acc: 0.9333\n",
      "Epoch 5/10\n",
      "52/52 [==============================] - 69s 1s/step - loss: 0.0032 - acc: 1.0000 - val_loss: 0.1951 - val_acc: 0.9417\n",
      "Epoch 6/10\n",
      "52/52 [==============================] - 72s 1s/step - loss: 0.0023 - acc: 1.0000 - val_loss: 0.1971 - val_acc: 0.9333\n",
      "Epoch 7/10\n",
      "52/52 [==============================] - 81s 2s/step - loss: 0.0017 - acc: 1.0000 - val_loss: 0.2123 - val_acc: 0.9167\n",
      "Epoch 8/10\n",
      "52/52 [==============================] - 79s 2s/step - loss: 0.0014 - acc: 1.0000 - val_loss: 0.2124 - val_acc: 0.9167\n",
      "Epoch 9/10\n",
      "52/52 [==============================] - 67s 1s/step - loss: 0.0011 - acc: 1.0000 - val_loss: 0.2037 - val_acc: 0.9333\n",
      "Epoch 10/10\n",
      "52/52 [==============================] - 66s 1s/step - loss: 8.9000e-04 - acc: 1.0000 - val_loss: 0.2064 - val_acc: 0.9333\n"
     ]
    }
   ],
   "source": [
    "history = model.fit(train_X, train_y,\n",
    "                               batch_size=10,\n",
    "                               epochs=10, \n",
    "                               validation_data=(val_X, val_y),\n",
    "                               callbacks=my_callbacks)"
   ]
  },
  {
   "cell_type": "code",
   "execution_count": 46,
   "metadata": {
    "colab": {
     "base_uri": "https://localhost:8080/",
     "height": 545
    },
    "id": "x8DcaVwB0JBA",
    "outputId": "54583476-3613-4928-d3c5-87bb3b4ff1a4"
   },
   "outputs": [
    {
     "data": {
      "image/png": "[encoded data removed]",
      "text/plain": [
       "<Figure size 432x288 with 1 Axes>"
      ]
     },
     "metadata": {
      "needs_background": "light"
     },
     "output_type": "display_data"
    },
    {
     "data": {
      "image/png": "[encoded data removed]",
      "text/plain": [
       "<Figure size 432x288 with 1 Axes>"
      ]
     },
     "metadata": {
      "needs_background": "light"
     },
     "output_type": "display_data"
    }
   ],
   "source": [
    "import matplotlib.pyplot as plt\n",
    "acc = history.history['acc']\n",
    "val_acc = history.history['val_acc']\n",
    "loss = history.history['loss']\n",
    "val_loss = history.history['val_loss']\n",
    "\n",
    "epochs = range(1, len(acc) + 1)\n",
    "\n",
    "plt.plot(epochs, acc, 'bo', label='Training acc')\n",
    "plt.plot(epochs, val_acc, 'b', label='Validation acc')\n",
    "plt.title('Training and validation accuracy')\n",
    "plt.legend()\n",
    "\n",
    "plt.figure()\n",
    "\n",
    "plt.plot(epochs, loss, 'bo', label='Training loss')\n",
    "plt.plot(epochs, val_loss, 'b', label='Validation loss')\n",
    "plt.title('Training and validation loss')\n",
    "plt.legend()\n",
    "\n",
    "plt.show()"
   ]
  },
  {
   "cell_type": "code",
   "execution_count": 47,
   "metadata": {
    "colab": {
     "base_uri": "https://localhost:8080/"
    },
    "id": "cX-g4lcO0JD7",
    "outputId": "43e53a3d-50c2-47f5-a0ea-1d97a69e6fc1"
   },
   "outputs": [
    {
     "name": "stdout",
     "output_type": "stream",
     "text": [
      "Train Accuracy:\t 1.0\n",
      "Val Accuracy:\t 0.9333333373069763\n",
      "Test Accuracy:\t 0.8928571428571429\n",
      "Precision:\t 0.89921955624355\n",
      "Recall:\t\t 0.8928571428571429\n",
      "F1 Score:\t 0.8910818713450291\n"
     ]
    }
   ],
   "source": [
    "from sklearn.metrics import accuracy_score\n",
    "\n",
    "predictions = model.predict(test_X)\n",
    "ypred = np.argmax(predictions, axis=1)\n",
    "test_acc = accuracy_score(test_y, ypred)\n",
    "\n",
    "from sklearn.metrics import precision_recall_fscore_support, roc_auc_score\n",
    "\n",
    "precision, recall, f1score, _ = precision_recall_fscore_support(test_y, ypred, average='macro')\n",
    "\n",
    "\n",
    "print(\"Train Accuracy:\\t\", acc[-1])\n",
    "print(\"Val Accuracy:\\t\", val_acc[-1])\n",
    "print(\"Test Accuracy:\\t\", test_acc)\n",
    "print(\"Precision:\\t\", precision)\n",
    "print(\"Recall:\\t\\t\", recall)\n",
    "print(\"F1 Score:\\t\", f1score)\n"
   ]
  },
  {
   "cell_type": "code",
   "execution_count": null,
   "metadata": {
    "id": "tLe_zG0U0JGU"
   },
   "outputs": [],
   "source": []
  }
 ],
 "metadata": {
  "accelerator": "GPU",
  "colab": {
   "authorship_tag": "ABX9TyPzBCOKycRaIkmyJQx4wbsj",
   "include_colab_link": true,
   "machine_shape": "hm",
   "name": "CE888_Lab_8.ipynb",
   "provenance": []
  },
  "kernelspec": {
   "display_name": "Python 3",
   "language": "python",
   "name": "python3"
  },
  "language_info": {
   "codemirror_mode": {
    "name": "ipython",
    "version": 3
   },
   "file_extension": ".py",
   "mimetype": "text/x-python",
   "name": "python",
   "nbconvert_exporter": "python",
   "pygments_lexer": "ipython3",
   "version": "3.7.4"
  }
 },
 "nbformat": 4,
 "nbformat_minor": 1
}
